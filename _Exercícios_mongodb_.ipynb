{
  "cells": [
    {
      "cell_type": "markdown",
      "metadata": {
        "id": "Ju4lrHjcji7i"
      },
      "source": [
        "# Exercícios banco"
      ]
    },
    {
      "cell_type": "code",
      "execution_count": null,
      "metadata": {
        "id": "gm-zvXrsjh8p"
      },
      "outputs": [],
      "source": [
        " # importa bibliotecas\n",
        "    \n",
        "import pymongo\n",
        "from pandas import DataFrame\n",
        "import pandas as pd\n",
        "from bson.json_util import dumps\n",
        "from datetime import datetime\n",
        "from bson.objectid import ObjectId\n",
        "import warnings\n",
        "warnings.filterwarnings(\"ignore\", category=DeprecationWarning) \n",
        "\n",
        "# conecta ao banco de dados staging \n",
        "\n",
        "uri = \"\"\n",
        "client = pymongo.MongoClient(uri)\n",
        "staging = client.stagingbot"
      ]
    },
    {
      "cell_type": "markdown",
      "metadata": {
        "id": "-cN0WVYYjoAY"
      },
      "source": [
        "## `Resgaste todos os estabelecimentos ativos da plataforma`\n",
        "\n",
        "Estabelecimentos ativos são aqueles que possuem valor `True` para a propriedade `sign.active`"
      ]
    },
    {
      "cell_type": "code",
      "execution_count": null,
      "metadata": {
        "id": "iPXWu-7PSaVd"
      },
      "outputs": [],
      "source": [
        "# acessa coleção que armazena documentos dos estabelecimentos\n",
        "\n",
        "estabelecimentos = staging.estabelecimentos"
      ]
    },
    {
      "cell_type": "code",
      "execution_count": null,
      "metadata": {
        "id": "3aHoq9fCSaVe"
      },
      "outputs": [],
      "source": [
        "# Identifica os estabelecimentos ativos e retorna o ID da página em formato DataFrame\n",
        "\n",
        "p1 = [\n",
        "                {'$match':{\"sign.active\": True}},\n",
        "                {'$project': {'page':1, '_id':0}}\n",
        "           ]\n",
        "\n",
        "estabelecimentos_ativos = estabelecimentos.aggregate(p1)\n",
        "\n",
        "df_estabelecimentos_ativos = DataFrame(estabelecimentos_ativos)\n",
        "df_estabelecimentos_ativos\n"
      ]
    },
    {
      "cell_type": "markdown",
      "metadata": {
        "id": "hS9X3PtUkiB_"
      },
      "source": [
        "## `Resgate todos os estabelecimentos que entraram na plataforma antes de agosto de 2021`\n",
        "\n",
        "Podemos considerar a data de criação do objeto (somente neste exemplo) para induzir a data de entrada (`createdAt`)"
      ]
    },
    {
      "cell_type": "code",
      "execution_count": null,
      "metadata": {
        "id": "DXCTLupFknbL"
      },
      "outputs": [],
      "source": [
        "date = datetime(2021, 8,1,)\n",
        "date\n",
        "\n",
        "p2 = [\n",
        "                {'$match':{\"createdAt\": {'$lt': date}}},\n",
        "                {'$project': {'page':1, 'createdAt':1, '_id':0}},\n",
        "                {'$sort': {'createdAt':-1}}\n",
        "     ]\n",
        "\n",
        "clientes_bagst2021 = estabelecimentos.aggregate(p2)\n",
        "df_clientes_bagst2021 = DataFrame(clientes_bagst2021)\n",
        "df_clientes_bagst2021\n"
      ]
    },
    {
      "cell_type": "markdown",
      "metadata": {
        "id": "2U4zvUv2pCvR"
      },
      "source": [
        "## `Resgate a quantidade de pedidos relativa a cada possível check _(status do pedido)_ do estabelecimento selecionado`\n",
        "\n",
        "* `check` é o campo que corresponde ao status do pedido;\n",
        "\n",
        "Por exemplo, para cada valor de `check` possível, deveremos retornar a quantidade de pedidos dentro de cada um dos possíveis conjuntos."
      ]
    },
    {
      "cell_type": "code",
      "execution_count": null,
      "metadata": {
        "id": "rKF6jHQNSaVp"
      },
      "outputs": [],
      "source": [
        "p7 = [\n",
        "        {'$match': {\"page\": ObjectId('ID_estabelecimento_especificado')}},\n",
        "        {'$group': {'_id': \"$check\", 'total': {'$sum': 1}}}\n",
        "]\n",
        "\n",
        "check = pedidos.aggregate(p7)\n",
        "df_check = DataFrame(check)\n",
        "df_check = df_check.rename(columns={'_id': 'check'})\n",
        "df_check"
      ]
    },
    {
      "cell_type": "markdown",
      "metadata": {
        "id": "9EpV7Ya8pEnp"
      },
      "source": [
        "## `Obtenha uma lista dos clientes de acordo com cada nota dada para o NPS abaixo de 7 desde o dia 1 de dezembro de 2021`"
      ]
    },
    {
      "cell_type": "code",
      "execution_count": null,
      "metadata": {
        "id": "YBCseumMpE2L"
      },
      "outputs": [],
      "source": [
        "# acessa coleção que armazena as respostas da pesquisa de NPS realizadas com clientes dos estabelecimentos\n",
        "\n",
        "client_nps = staging.nps"
      ]
    },
    {
      "cell_type": "code",
      "execution_count": null,
      "metadata": {
        "id": "jz6dsH-dSaVq"
      },
      "outputs": [],
      "source": [
        "# data de início alterada para verificar a consulta\n",
        "\n",
        "start = datetime(2020, 10,2,)\n",
        "end = datetime.now()\n",
        "\n",
        "\n",
        "p8 = [\n",
        "            {'$match': {'createdAt': {'$gt':start, '$lt':end},'rating':{'$lt':7}}}, \n",
        "            {'$project': {'_id':0, 'page':1, 'rating':1}},\n",
        "            {'$sort': {'rating':1}}\n",
        "]\n",
        "\n",
        "cliente_NPS_under7 = client_nps.aggregate(p8)\n",
        "df_cliente_NPS_under7 = DataFrame(cliente_NPS_under7)\n",
        "df_cliente_NPS_under7\n",
        "\n",
        "#problema no $gte, quando uso este operador a consulta não retorna nada."
      ]
    },
    {
      "cell_type": "markdown",
      "metadata": {
        "id": "bKuJwmhe9E7v"
      },
      "source": [
        "## `Retorne a quantidade de prêmios ainda a serem retirados por clientes de cada um dos estabelecimentos **com plano de fidelidade ativo`**"
      ]
    },
    {
      "cell_type": "code",
      "execution_count": null,
      "metadata": {
        "id": "MfLEnl-O9-u3"
      },
      "outputs": [],
      "source": [
        "# acessa coleção que armazena clientes fidelidade dos estabelecimentos\n",
        "\n",
        "fidelidade = staging.fidelidade"
      ]
    },
    {
      "cell_type": "code",
      "execution_count": null,
      "metadata": {
        "id": "oaQowZjjSaVv"
      },
      "outputs": [],
      "source": [
        "p13 =   [\n",
        "      {'$match': {'active': True, 'gift_amount.to_withdraw':{'$gt':0}}},\n",
        "      {\n",
        "      '$group':\n",
        "      {\n",
        "       \"_id\": {\n",
        "       \"page\": \"$page\"}, \"count\":{'$sum':1}}},\n",
        "      {\n",
        "       '$project': {'count':1}   \n",
        "      },\n",
        "      {\n",
        "       '$sort': {'count':-1}  \n",
        "      }\n",
        "]\n",
        "\n",
        "list(fidelidade.aggregate(p13))"
      ]
    },
    {
      "cell_type": "markdown",
      "metadata": {
        "id": "Ij6bfb34-Pk0"
      },
      "source": [
        "## `Retorne os 10 estabelecimentos que possuem mais itens **disponíveis** no cardápio`\n",
        "\n",
        "Quando um item não está disponível, a propriedade `deleted` dele está **setada** como `True`"
      ]
    },
    {
      "cell_type": "code",
      "execution_count": null,
      "metadata": {
        "id": "F4jfKyKcSaVv"
      },
      "outputs": [],
      "source": [
        "# acessa coleção que armazena itens do cardápio dos estabelecimentos\n",
        "\n",
        "itens = staging.itens"
      ]
    },
    {
      "cell_type": "code",
      "execution_count": null,
      "metadata": {
        "id": "GDQzLoXKSaVw"
      },
      "outputs": [],
      "source": [
        "p14 =   [\n",
        "      {'$match': {\"deleted\": False}},\n",
        "      {'$group': {\"_id\": {'page':\"$page\"}, \"items\":{'$sum':1}}},\n",
        "      {'$project': {'page':1,'items':1}},\n",
        "      {'$sort': {'items':-1}},\n",
        "      {'$limit': 10}\n",
        "]\n",
        "\n",
        "itens = itens.aggregate(p14)\n",
        "df_items = DataFrame(items).rename(columns={'_id': 'page'})\n",
        "df_items"
      ]
    },
    {
      "cell_type": "markdown",
      "metadata": {
        "id": "lJyGQC6s_R9_"
      },
      "source": [
        "## `Qual a quantidade em meses que cada um dos estabelecimentos ativos estão na plataforma?`\n",
        "\n",
        "Para este exemplo (atenção, somente para este, no cenário real isso \"não poderia\" ser feito dessa forma), considere a data de entrada como a data de criação do documento de cada um dos estabelecimentos `createdAt`."
      ]
    },
    {
      "cell_type": "code",
      "execution_count": null,
      "metadata": {
        "id": "ZBWfbYw3SaVx"
      },
      "outputs": [],
      "source": [
        "meses = estabelecimentos.aggregate([{'$match':{\"sign.active\": True}},\n",
        "                                  {'$project': {'_id':0, \n",
        "                                                'page':1, \n",
        "                                                'anos':{'$subtract':[{\"$year\": \"$updatedAt\"}, {\"$year\": \"$createdAt\"}]},\n",
        "                                                'meses':{'$subtract':[{\"$month\": \"$updatedAt\"}, {\"$month\": \"$createdAt\"}]}}}])\n",
        "\n",
        "df_meses = DataFrame(meses)\n",
        "df_meses['diff_meses'] = df_meses['anos']*12+df_meses['meses']\n",
        "df_meses"
      ]
    },
    {
      "cell_type": "code",
      "execution_count": null,
      "metadata": {
        "id": "v3GgqHXKSaVx"
      },
      "outputs": [],
      "source": [
        "# fazendo o cálculo de outra forma, para validar o resultado\n",
        "\n",
        "meses = estabelecimentos.aggregate([{'$match':{\"sign.active\": True}},\n",
        "                                  {'$project': {'_id':0, 'page':1, 'updatedAt':1, \"createdAt\":1}}])\n",
        "\n",
        "df_meses = DataFrame(meses)\n",
        "df_meses['meses'] = (df_meses['updatedAt'] - df_meses['createdAt']).dt.days/30.417\n",
        "df_meses"
      ]
    },
    {
      "cell_type": "markdown",
      "metadata": {
        "id": "pLPvLvR2pG-S"
      },
      "source": [
        "## `Resgate **somente** as informações de cidade e estado dos estabelecimentos ativos`\n",
        "\n",
        "Essas informações estão dentro de `establishmentunits`, dentro da propriedade `address`.\n"
      ]
    },
    {
      "cell_type": "code",
      "execution_count": null,
      "metadata": {
        "id": "7W5YHiDfpGVG"
      },
      "outputs": [],
      "source": [
        "estabelecimentos = staging.estabelecimentos"
      ]
    },
    {
      "cell_type": "code",
      "execution_count": null,
      "metadata": {
        "id": "cC-GlMsjSaVy"
      },
      "outputs": [],
      "source": [
        "df_units = DataFrame(estabelecimentos.aggregate([{'$match':{'sign.active':True}},{'$project':{'page':1, 'units':1, \"_id\":0}}]))\n"
      ]
    },
    {
      "cell_type": "code",
      "execution_count": null,
      "metadata": {
        "id": "p7DSXb8oSaVy"
      },
      "outputs": [],
      "source": [
        "p17 = [\n",
        "    {\n",
        "        '$unwind': {\n",
        "            'path': '$units'\n",
        "        }\n",
        "    }, {\n",
        "        '$match': {\n",
        "            'sign.active': True\n",
        "        }\n",
        "    }, {\n",
        "        '$lookup': {\n",
        "            'from': 'establishmentunits', \n",
        "            'localField': 'units', \n",
        "            'foreignField': '_id', \n",
        "            'as': 'result'\n",
        "        }\n",
        "    }, {\n",
        "        '$unwind': {\n",
        "            'path': '$result'\n",
        "        }\n",
        "    },\n",
        "    \n",
        "        {\n",
        "        '$project': {\n",
        "            'page':1,\n",
        "            '_id':0,\n",
        "            'result.address.state': 1, \n",
        "            'result.address.city': 1\n",
        "        }}\n",
        "    \n",
        "]\n",
        "\n",
        "list(estabelecimentos.aggregate(p17))\n"
      ]
    },
    {
      "cell_type": "markdown",
      "metadata": {
        "id": "194SkQdyb1bf"
      },
      "source": [
        "## `Quantos estabelecimentos ativos temos em cada uma das regiões do país?`"
      ]
    },
    {
      "cell_type": "code",
      "execution_count": null,
      "metadata": {
        "id": "WVG8Xfr0SaVz"
      },
      "outputs": [],
      "source": [
        "Norte = ['AM', 'RR', 'AP', 'PA', 'TO', 'RO', 'AC']\n",
        "Nordeste = ['MA', 'PI', 'CE', 'RN', 'PE', 'PB', 'SE', 'AL', 'BA']\n",
        "Centro_Oeste = ['MT', 'MS', 'GO']\n",
        "Sudeste = ['SP', 'RJ', 'ES', 'MG' ]\n",
        "Sul = ['PR', 'RS', 'SC']"
      ]
    },
    {
      "cell_type": "code",
      "execution_count": null,
      "metadata": {
        "id": "_2-AyVixSaVz"
      },
      "outputs": [],
      "source": [
        "p18 = [\n",
        "    {\n",
        "        '$unwind': {\n",
        "            'path': '$units'\n",
        "        }\n",
        "    }, {\n",
        "        '$match': {\n",
        "            'sign.active': True\n",
        "        }\n",
        "    }, {\n",
        "        '$lookup': {\n",
        "            'from': 'establishmentunits', \n",
        "            'localField': 'units', \n",
        "            'foreignField': '_id', \n",
        "            'as': 'result'\n",
        "        }\n",
        "    }, {\n",
        "        '$unwind': {\n",
        "            'path': '$result'\n",
        "        }\n",
        "    }, {\n",
        "        '$unwind': {\n",
        "            'path': '$result.address'\n",
        "        }\n",
        "    }, {\n",
        "        '$group': {\n",
        "            '_id': {\n",
        "                'state': '$result.address.state'\n",
        "            }, \n",
        "            'total': {\n",
        "                '$sum': 1\n",
        "            }\n",
        "        }\n",
        "    }\n",
        "]\n",
        "\n",
        "states = estabelecimentos.aggregate(p18)\n",
        "df_states = DataFrame(states).rename(columns={'_id': 'state'})\n",
        "df_states"
      ]
    }
  ],
  "metadata": {
    "colab": {
      "provenance": []
    },
    "kernelspec": {
      "display_name": "Python 3 (ipykernel)",
      "language": "python",
      "name": "python3"
    },
    "language_info": {
      "codemirror_mode": {
        "name": "ipython",
        "version": 3
      },
      "file_extension": ".py",
      "mimetype": "text/x-python",
      "name": "python",
      "nbconvert_exporter": "python",
      "pygments_lexer": "ipython3",
      "version": "3.8.13"
    }
  },
  "nbformat": 4,
  "nbformat_minor": 0
}