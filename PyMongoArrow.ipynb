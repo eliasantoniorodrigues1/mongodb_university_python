{
 "cells": [
  {
   "attachments": {},
   "cell_type": "markdown",
   "metadata": {},
   "source": [
    "### Import Libraries"
   ]
  },
  {
   "cell_type": "code",
   "execution_count": 14,
   "metadata": {},
   "outputs": [],
   "source": [
    "import pymongoarrow\n",
    "from pymongo import MongoClient\n",
    "import pandas as pd\n",
    "import numpy as np\n",
    "import pyarrow\n",
    "import pprint\n",
    "from datetime import datetime\n",
    "import os\n",
    "from dotenv import load_dotenv"
   ]
  },
  {
   "attachments": {},
   "cell_type": "markdown",
   "metadata": {},
   "source": [
    "### Reading enviroment variables"
   ]
  },
  {
   "cell_type": "code",
   "execution_count": 15,
   "metadata": {},
   "outputs": [],
   "source": [
    "load_dotenv()\n",
    "MONGODB_URI = os.environ['MONGODB_URI_LOCAL']\n"
   ]
  },
  {
   "attachments": {},
   "cell_type": "markdown",
   "metadata": {},
   "source": [
    "### Establish connection with our MongoDB database running locally"
   ]
  },
  {
   "cell_type": "code",
   "execution_count": 16,
   "metadata": {},
   "outputs": [],
   "source": [
    "client = MongoClient(MONGODB_URI)"
   ]
  },
  {
   "cell_type": "code",
   "execution_count": 17,
   "metadata": {},
   "outputs": [],
   "source": [
    "db = client.newDB\n",
    "col = db.newCol"
   ]
  },
  {
   "attachments": {},
   "cell_type": "markdown",
   "metadata": {},
   "source": [
    "### Create a list of documents"
   ]
  },
  {
   "cell_type": "code",
   "execution_count": 18,
   "metadata": {},
   "outputs": [],
   "source": [
    "data = [\n",
    "    {'_id': 1, 'measure': 43, 'status': 'active', 'installed_on': datetime(2022, 1, 8, 3, 43, 12)},\n",
    "    {'_id': 2, 'measure': 32, 'status': 'active', 'installed_on': datetime(2022, 1, 2, 11, 43, 27)},\n",
    "    {'_id': 3, 'measure': 62, 'status': 'inactive', 'installed_on': datetime(2022, 3, 12, 3, 53, 12)},\n",
    "    {'_id': 4, 'measure': 59, 'status': 'active', 'installed_on': datetime(2022, 4, 8, 3, 22, 45)},\n",
    "    ]"
   ]
  },
  {
   "cell_type": "code",
   "execution_count": 19,
   "metadata": {},
   "outputs": [
    {
     "data": {
      "text/plain": [
       "<pymongo.results.InsertManyResult at 0x221feea89d0>"
      ]
     },
     "execution_count": 19,
     "metadata": {},
     "output_type": "execute_result"
    }
   ],
   "source": [
    "col.insert_many(data)"
   ]
  },
  {
   "cell_type": "code",
   "execution_count": 20,
   "metadata": {},
   "outputs": [
    {
     "name": "stdout",
     "output_type": "stream",
     "text": [
      "{'_id': 1,\n",
      " 'installed_on': datetime.datetime(2022, 1, 8, 3, 43, 12),\n",
      " 'measure': 43,\n",
      " 'status': 'active'}\n",
      "{'_id': 2,\n",
      " 'installed_on': datetime.datetime(2022, 1, 2, 11, 43, 27),\n",
      " 'measure': 32,\n",
      " 'status': 'active'}\n",
      "{'_id': 3,\n",
      " 'installed_on': datetime.datetime(2022, 3, 12, 3, 53, 12),\n",
      " 'measure': 62,\n",
      " 'status': 'inactive'}\n",
      "{'_id': 4,\n",
      " 'installed_on': datetime.datetime(2022, 4, 8, 3, 22, 45),\n",
      " 'measure': 59,\n",
      " 'status': 'active'}\n"
     ]
    }
   ],
   "source": [
    "for doc in col.find({}):\n",
    "    pprint.pprint(doc)"
   ]
  },
  {
   "attachments": {},
   "cell_type": "markdown",
   "metadata": {},
   "source": [
    "### Using pandas do retrieve data from MongoDB and create a Dataframe"
   ]
  },
  {
   "cell_type": "code",
   "execution_count": 21,
   "metadata": {},
   "outputs": [],
   "source": [
    "# let`s patch pymongo in place\n",
    "from pymongoarrow.monkey import patch_all\n",
    "patch_all()"
   ]
  },
  {
   "cell_type": "code",
   "execution_count": 22,
   "metadata": {},
   "outputs": [],
   "source": [
    "query = {'measure': {'$gt': 40}}\n",
    "df = col.find_pandas_all(query)"
   ]
  },
  {
   "cell_type": "code",
   "execution_count": 23,
   "metadata": {},
   "outputs": [
    {
     "name": "stdout",
     "output_type": "stream",
     "text": [
      "   _id  measure    status        installed_on\n",
      "0    1       43    active 2022-01-08 03:43:12\n",
      "1    3       62  inactive 2022-03-12 03:53:12\n",
      "2    4       59    active 2022-04-08 03:22:45\n"
     ]
    }
   ],
   "source": [
    "print(df)"
   ]
  },
  {
   "attachments": {},
   "cell_type": "markdown",
   "metadata": {},
   "source": [
    "### Defining a Schema"
   ]
  },
  {
   "cell_type": "code",
   "execution_count": 24,
   "metadata": {},
   "outputs": [],
   "source": [
    "from pymongoarrow.api import Schema"
   ]
  },
  {
   "attachments": {},
   "cell_type": "markdown",
   "metadata": {},
   "source": [
    "### Transfer MongoDB data into a numpy array"
   ]
  },
  {
   "cell_type": "code",
   "execution_count": 25,
   "metadata": {},
   "outputs": [],
   "source": [
    "# schema definition\n",
    "schema = Schema({'_id': int, 'measure': float, 'status': str, 'installed_on': datetime})\n",
    "query = {'measure': {'$gt': 40}}"
   ]
  },
  {
   "cell_type": "code",
   "execution_count": 26,
   "metadata": {},
   "outputs": [],
   "source": [
    "npa = col.find_numpy_all(query, schema=schema)"
   ]
  },
  {
   "cell_type": "code",
   "execution_count": 27,
   "metadata": {},
   "outputs": [
    {
     "name": "stdout",
     "output_type": "stream",
     "text": [
      "{'_id': array([1, 3, 4], dtype=int64), 'measure': array([43., 62., 59.]), 'status': array(['active', 'inactive', 'active'], dtype='<U8'), 'installed_on': array(['2022-01-08T03:43:12.000', '2022-03-12T03:53:12.000',\n",
      "       '2022-04-08T03:22:45.000'], dtype='datetime64[ms]')}\n"
     ]
    }
   ],
   "source": [
    "print(npa)"
   ]
  },
  {
   "attachments": {},
   "cell_type": "markdown",
   "metadata": {},
   "source": [
    "### Transfer MongoDB data into an arrow table"
   ]
  },
  {
   "cell_type": "code",
   "execution_count": 28,
   "metadata": {},
   "outputs": [],
   "source": [
    "arrow_table = col.find_arrow_all({})"
   ]
  },
  {
   "cell_type": "code",
   "execution_count": 29,
   "metadata": {},
   "outputs": [
    {
     "name": "stdout",
     "output_type": "stream",
     "text": [
      "pyarrow.Table\n",
      "_id: int32\n",
      "measure: int32\n",
      "status: string\n",
      "installed_on: timestamp[ms]\n",
      "----\n",
      "_id: [[1,2,3,4]]\n",
      "measure: [[43,32,62,59]]\n",
      "status: [[\"active\",\"active\",\"inactive\",\"active\"]]\n",
      "installed_on: [[2022-01-08 03:43:12.000,2022-01-02 11:43:27.000,2022-03-12 03:53:12.000,2022-04-08 03:22:45.000]]\n"
     ]
    }
   ],
   "source": [
    "print(arrow_table)"
   ]
  },
  {
   "attachments": {},
   "cell_type": "markdown",
   "metadata": {},
   "source": [
    "### PyMongoArrow`s aggregate operations\n",
    "\n",
    " - aggregate_pandas_all()\n",
    " - aggregate_numpy_all()\n",
    " - aggregate_arrow_all()"
   ]
  },
  {
   "cell_type": "code",
   "execution_count": 31,
   "metadata": {},
   "outputs": [],
   "source": [
    "pipeline = [\n",
    "    {'$match': {'measure': {'$gt': 40}}}\n",
    "]\n",
    "df_agg = col.aggregate_pandas_all(pipeline, schema=schema)\n"
   ]
  },
  {
   "cell_type": "code",
   "execution_count": 32,
   "metadata": {},
   "outputs": [
    {
     "data": {
      "text/html": [
       "<div>\n",
       "<style scoped>\n",
       "    .dataframe tbody tr th:only-of-type {\n",
       "        vertical-align: middle;\n",
       "    }\n",
       "\n",
       "    .dataframe tbody tr th {\n",
       "        vertical-align: top;\n",
       "    }\n",
       "\n",
       "    .dataframe thead th {\n",
       "        text-align: right;\n",
       "    }\n",
       "</style>\n",
       "<table border=\"1\" class=\"dataframe\">\n",
       "  <thead>\n",
       "    <tr style=\"text-align: right;\">\n",
       "      <th></th>\n",
       "      <th>_id</th>\n",
       "      <th>measure</th>\n",
       "      <th>status</th>\n",
       "      <th>installed_on</th>\n",
       "    </tr>\n",
       "  </thead>\n",
       "  <tbody>\n",
       "    <tr>\n",
       "      <th>0</th>\n",
       "      <td>1</td>\n",
       "      <td>43.0</td>\n",
       "      <td>active</td>\n",
       "      <td>2022-01-08 03:43:12</td>\n",
       "    </tr>\n",
       "    <tr>\n",
       "      <th>1</th>\n",
       "      <td>3</td>\n",
       "      <td>62.0</td>\n",
       "      <td>inactive</td>\n",
       "      <td>2022-03-12 03:53:12</td>\n",
       "    </tr>\n",
       "    <tr>\n",
       "      <th>2</th>\n",
       "      <td>4</td>\n",
       "      <td>59.0</td>\n",
       "      <td>active</td>\n",
       "      <td>2022-04-08 03:22:45</td>\n",
       "    </tr>\n",
       "  </tbody>\n",
       "</table>\n",
       "</div>"
      ],
      "text/plain": [
       "   _id  measure    status        installed_on\n",
       "0    1     43.0    active 2022-01-08 03:43:12\n",
       "1    3     62.0  inactive 2022-03-12 03:53:12\n",
       "2    4     59.0    active 2022-04-08 03:22:45"
      ]
     },
     "execution_count": 32,
     "metadata": {},
     "output_type": "execute_result"
    }
   ],
   "source": [
    "df_agg"
   ]
  },
  {
   "attachments": {},
   "cell_type": "markdown",
   "metadata": {},
   "source": [
    "### Writing data back to MongoDB"
   ]
  },
  {
   "cell_type": "code",
   "execution_count": 33,
   "metadata": {},
   "outputs": [],
   "source": [
    "from pymongoarrow.api import write"
   ]
  },
  {
   "cell_type": "code",
   "execution_count": 34,
   "metadata": {},
   "outputs": [
    {
     "data": {
      "text/plain": [
       "{'insertedCount': 3}"
      ]
     },
     "execution_count": 34,
     "metadata": {},
     "output_type": "execute_result"
    }
   ],
   "source": [
    "# write dataframe data back to MongoDB\n",
    "write(db.pandas_data, df)"
   ]
  },
  {
   "cell_type": "code",
   "execution_count": 35,
   "metadata": {},
   "outputs": [
    {
     "name": "stdout",
     "output_type": "stream",
     "text": [
      "{'_id': 1,\n",
      " 'installed_on': datetime.datetime(2022, 1, 8, 3, 43, 12),\n",
      " 'measure': 43,\n",
      " 'status': 'active'}\n",
      "{'_id': 3,\n",
      " 'installed_on': datetime.datetime(2022, 3, 12, 3, 53, 12),\n",
      " 'measure': 62,\n",
      " 'status': 'inactive'}\n",
      "{'_id': 4,\n",
      " 'installed_on': datetime.datetime(2022, 4, 8, 3, 22, 45),\n",
      " 'measure': 59,\n",
      " 'status': 'active'}\n"
     ]
    }
   ],
   "source": [
    "for doc in db.pandas_data.find({}):\n",
    "    pprint.pprint(doc)"
   ]
  },
  {
   "cell_type": "code",
   "execution_count": 36,
   "metadata": {},
   "outputs": [
    {
     "data": {
      "text/plain": [
       "{'insertedCount': 3}"
      ]
     },
     "execution_count": 36,
     "metadata": {},
     "output_type": "execute_result"
    }
   ],
   "source": [
    "# write numpy array data back to MongoDB\n",
    "write(db.numpy_data, npa)"
   ]
  },
  {
   "cell_type": "code",
   "execution_count": 37,
   "metadata": {},
   "outputs": [
    {
     "name": "stdout",
     "output_type": "stream",
     "text": [
      "{'_id': 1,\n",
      " 'installed_on': datetime.datetime(2022, 1, 8, 3, 43, 12),\n",
      " 'measure': 43.0,\n",
      " 'status': 'active'}\n",
      "{'_id': 3,\n",
      " 'installed_on': datetime.datetime(2022, 3, 12, 3, 53, 12),\n",
      " 'measure': 62.0,\n",
      " 'status': 'inactive'}\n",
      "{'_id': 4,\n",
      " 'installed_on': datetime.datetime(2022, 4, 8, 3, 22, 45),\n",
      " 'measure': 59.0,\n",
      " 'status': 'active'}\n"
     ]
    }
   ],
   "source": [
    "for doc in db.numpy_data.find({}):\n",
    "    pprint.pprint(doc)"
   ]
  },
  {
   "cell_type": "code",
   "execution_count": 38,
   "metadata": {},
   "outputs": [
    {
     "data": {
      "text/plain": [
       "{'insertedCount': 4}"
      ]
     },
     "execution_count": 38,
     "metadata": {},
     "output_type": "execute_result"
    }
   ],
   "source": [
    "# write arrow table data back to MongoDB\n",
    "write(db.arrow_data, arrow_table)"
   ]
  },
  {
   "cell_type": "code",
   "execution_count": 39,
   "metadata": {},
   "outputs": [
    {
     "name": "stdout",
     "output_type": "stream",
     "text": [
      "{'_id': 1,\n",
      " 'installed_on': datetime.datetime(2022, 1, 8, 3, 43, 12),\n",
      " 'measure': 43,\n",
      " 'status': 'active'}\n",
      "{'_id': 2,\n",
      " 'installed_on': datetime.datetime(2022, 1, 2, 11, 43, 27),\n",
      " 'measure': 32,\n",
      " 'status': 'active'}\n",
      "{'_id': 3,\n",
      " 'installed_on': datetime.datetime(2022, 3, 12, 3, 53, 12),\n",
      " 'measure': 62,\n",
      " 'status': 'inactive'}\n",
      "{'_id': 4,\n",
      " 'installed_on': datetime.datetime(2022, 4, 8, 3, 22, 45),\n",
      " 'measure': 59,\n",
      " 'status': 'active'}\n"
     ]
    }
   ],
   "source": [
    "for doc in db.arrow_data.find({}):\n",
    "    pprint.pprint(doc)"
   ]
  }
 ],
 "metadata": {
  "kernelspec": {
   "display_name": "venv",
   "language": "python",
   "name": "python3"
  },
  "language_info": {
   "codemirror_mode": {
    "name": "ipython",
    "version": 3
   },
   "file_extension": ".py",
   "mimetype": "text/x-python",
   "name": "python",
   "nbconvert_exporter": "python",
   "pygments_lexer": "ipython3",
   "version": "3.10.4"
  },
  "orig_nbformat": 4,
  "vscode": {
   "interpreter": {
    "hash": "29590e78fd3cea02aad909d273aa3e99dbe4604212008b5264e7db54642003f8"
   }
  }
 },
 "nbformat": 4,
 "nbformat_minor": 2
}
